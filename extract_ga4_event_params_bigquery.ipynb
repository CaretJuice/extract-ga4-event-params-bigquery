{
  "nbformat": 4,
  "nbformat_minor": 0,
  "metadata": {
    "colab": {
      "provenance": [],
      "authorship_tag": "ABX9TyMCHadwlB1TKhi7v1CqAysC",
      "include_colab_link": true
    },
    "kernelspec": {
      "name": "python3",
      "display_name": "Python 3"
    },
    "language_info": {
      "name": "python"
    }
  },
  "cells": [
    {
      "cell_type": "markdown",
      "metadata": {
        "id": "view-in-github",
        "colab_type": "text"
      },
      "source": [
        "<a href=\"https://colab.research.google.com/github/CaretJuice/extract-ga4-event-params-bigquery/blob/main/extract_ga4_event_params_bigquery.ipynb\" target=\"_parent\"><img src=\"https://colab.research.google.com/assets/colab-badge.svg\" alt=\"Open In Colab\"/></a>"
      ]
    },
    {
      "cell_type": "code",
      "source": [
        "# Variables\n",
        "\n",
        "source_project = 'caret-juice-ss'\n",
        "source_dataset = 'analytics_265010215'\n",
        "source_table = 'events_intraday_20240205'"
      ],
      "metadata": {
        "id": "2nfjNrwm4HBc"
      },
      "execution_count": null,
      "outputs": []
    },
    {
      "cell_type": "code",
      "execution_count": null,
      "metadata": {
        "colab": {
          "base_uri": "https://localhost:8080/"
        },
        "id": "QcZZ3I5M3y1I",
        "outputId": "271787a2-9799-4316-c28d-e3bd6119e3d4"
      },
      "outputs": [
        {
          "output_type": "stream",
          "name": "stdout",
          "text": [
            "Authenticated\n",
            "The google.colab.data_table extension is already loaded. To reload it, use:\n",
            "  %reload_ext google.colab.data_table\n"
          ]
        }
      ],
      "source": [
        "from google.colab import auth\n",
        "auth.authenticate_user()\n",
        "print('Authenticated')\n",
        "%load_ext google.colab.data_table"
      ]
    },
    {
      "cell_type": "code",
      "source": [
        "from google.cloud import bigquery\n",
        "\n",
        "client = bigquery.Client(project=source_project)\n",
        "\n",
        "events = client.query('''\n",
        "  select distinct\n",
        "    event_name\n",
        "  from {sp}.{sd}.{st} '''.format(sp=source_project, sd=source_dataset, st=source_table) ).result()\n",
        "\n",
        "event_list=[]\n",
        "for event in events:\n",
        "  event_list.append(event[0])\n",
        "event_list"
      ],
      "metadata": {
        "colab": {
          "base_uri": "https://localhost:8080/"
        },
        "id": "oJHZ0rFv3_zB",
        "outputId": "acbce15a-cc1a-4c7d-9bff-7e5acfeb8eb1"
      },
      "execution_count": null,
      "outputs": [
        {
          "output_type": "execute_result",
          "data": {
            "text/plain": [
              "['first_visit',\n",
              " 'session_start',\n",
              " 'form_start',\n",
              " 'form_submit',\n",
              " 'user_engagement']"
            ]
          },
          "metadata": {},
          "execution_count": 31
        }
      ]
    },
    {
      "cell_type": "code",
      "source": [
        "event_params = {}\n",
        "\n",
        "for event in event_list:\n",
        "  event_params[event] = client.query('''\n",
        "    select\n",
        "      ep.key\n",
        "      , count(ep.value.string_value) as string_values\n",
        "      , count(ep.value.int_value) as int_values\n",
        "      , count(ep.value.float_value) as float_values\n",
        "      , count(ep.value.double_value) as double_values\n",
        "    from {sp}.{sd}.{st}\n",
        "    cross join\n",
        "      unnest(event_params) ep\n",
        "    where event_name = '{en}'\n",
        "    group by ep.key;\n",
        "    '''.format(sp=source_project, sd=source_dataset, st=source_table, en=event) ).to_dataframe()\n",
        "\n"
      ],
      "metadata": {
        "id": "x49Xv4lXYHXa"
      },
      "execution_count": null,
      "outputs": []
    },
    {
      "cell_type": "code",
      "source": [
        "for event in event_list:\n",
        "  print (event +'\\n')\n",
        "  print (event_params[event])\n",
        "  print ('\\n')"
      ],
      "metadata": {
        "colab": {
          "base_uri": "https://localhost:8080/"
        },
        "id": "qkIxsY8rfcsQ",
        "outputId": "68f84d15-7ba8-4213-e0cf-cc5996a8083e"
      },
      "execution_count": null,
      "outputs": [
        {
          "output_type": "stream",
          "name": "stdout",
          "text": [
            "first_visit\n",
            "\n",
            "                  key  string_values  int_values  float_values  double_values\n",
            "0         form_length              0           1             0              0\n",
            "1       batch_page_id              0           1             0              0\n",
            "2     ignore_referrer              1           0             0              0\n",
            "3          page_title              1           0             0              0\n",
            "4       page_referrer              1           0             0              0\n",
            "5    form_destination              1           0             0              0\n",
            "6       page_location              1           0             0              0\n",
            "7   ga_session_number              0           1             0              0\n",
            "8     session_engaged              1           0             0              0\n",
            "9   batch_ordering_id              0           1             0              0\n",
            "10      ga_session_id              0           1             0              0\n",
            "\n",
            "\n",
            "session_start\n",
            "\n",
            "                  key  string_values  int_values  float_values  double_values\n",
            "0       batch_page_id              0           1             0              0\n",
            "1       page_location              1           0             0              0\n",
            "2     session_engaged              1           0             0              0\n",
            "3       ga_session_id              0           1             0              0\n",
            "4   batch_ordering_id              0           1             0              0\n",
            "5     ignore_referrer              1           0             0              0\n",
            "6       page_referrer              1           0             0              0\n",
            "7   ga_session_number              0           1             0              0\n",
            "8         form_length              0           1             0              0\n",
            "9    form_destination              1           0             0              0\n",
            "10         page_title              1           0             0              0\n",
            "\n",
            "\n",
            "form_start\n",
            "\n",
            "                  key  string_values  int_values  float_values  double_values\n",
            "0     session_engaged              1           0             0              0\n",
            "1       batch_page_id              0           1             0              0\n",
            "2   batch_ordering_id              0           1             0              0\n",
            "3         form_length              0           1             0              0\n",
            "4       ga_session_id              0           1             0              0\n",
            "5       page_location              1           0             0              0\n",
            "6   ga_session_number              0           1             0              0\n",
            "7          page_title              1           0             0              0\n",
            "8    form_destination              1           0             0              0\n",
            "9     ignore_referrer              1           0             0              0\n",
            "10      page_referrer              1           0             0              0\n",
            "\n",
            "\n",
            "form_submit\n",
            "\n",
            "                     key  string_values  int_values  float_values  \\\n",
            "0          batch_page_id              0           1             0   \n",
            "1          page_location              1           0             0   \n",
            "2            form_length              0           1             0   \n",
            "3   engagement_time_msec              0           1             0   \n",
            "4       form_destination              1           0             0   \n",
            "5          ga_session_id              0           1             0   \n",
            "6      batch_ordering_id              0           1             0   \n",
            "7        ignore_referrer              1           0             0   \n",
            "8             page_title              1           0             0   \n",
            "9      ga_session_number              0           1             0   \n",
            "10       session_engaged              1           0             0   \n",
            "11         page_referrer              1           0             0   \n",
            "\n",
            "    double_values  \n",
            "0               0  \n",
            "1               0  \n",
            "2               0  \n",
            "3               0  \n",
            "4               0  \n",
            "5               0  \n",
            "6               0  \n",
            "7               0  \n",
            "8               0  \n",
            "9               0  \n",
            "10              0  \n",
            "11              0  \n",
            "\n",
            "\n",
            "user_engagement\n",
            "\n",
            "                    key  string_values  int_values  float_values  \\\n",
            "0         ga_session_id              0           1             0   \n",
            "1            page_title              1           0             0   \n",
            "2         batch_page_id              0           1             0   \n",
            "3       ignore_referrer              1           0             0   \n",
            "4         page_location              1           0             0   \n",
            "5     batch_ordering_id              0           1             0   \n",
            "6       session_engaged              1           0             0   \n",
            "7  engagement_time_msec              0           1             0   \n",
            "8         page_referrer              1           0             0   \n",
            "9     ga_session_number              0           1             0   \n",
            "\n",
            "   double_values  \n",
            "0              0  \n",
            "1              0  \n",
            "2              0  \n",
            "3              0  \n",
            "4              0  \n",
            "5              0  \n",
            "6              0  \n",
            "7              0  \n",
            "8              0  \n",
            "9              0  \n",
            "\n",
            "\n"
          ]
        }
      ]
    }
  ]
}