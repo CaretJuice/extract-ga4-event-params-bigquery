{
  "cells": [
    {
      "cell_type": "code",
      "execution_count": 25,
      "metadata": {
        "id": "2nfjNrwm4HBc"
      },
      "outputs": [],
      "source": [
        "# Variables\n",
        "\n",
        "source_project = ''\n",
        "source_dataset = ''\n",
        "source_table = ''\n",
        "\n",
        "# In what percentage of events does an event parameter need to be found to be\n",
        "# considered a universal event parameter. In other words, what parameters should\n",
        "# be configured for all events.\n",
        "threshold = 0.7\n",
        "\n",
        "exclude_parameters = []\n",
        "# comment out the below line to not exclude any parameters\n",
        "exclude_parameters = ['page_title', 'batch_ordering_id', 'engaged_session_event', 'batch_page_id', 'page_location',\n",
        "                      'ignore_referrer', 'gtm_container_id', 'engagement_time_msec', 'gtm_container_version', 'page_referrer',\n",
        "                      'session_engaged', 'gtm_debug_mode', 'ga_session_number' , 'ga_session_id', 'medium', 'term', 'campaign',\n",
        "                      'source', 'gclid', 'gclsrc', 'gtm_environment', 'debug_mode']\n",
        "exclude_parameters = ', '.join(exclude_parameters)"
      ]
    },
    {
      "cell_type": "code",
      "execution_count": 26,
      "metadata": {
        "id": "QcZZ3I5M3y1I",
        "colab": {
          "base_uri": "https://localhost:8080/"
        },
        "outputId": "291498b6-5f39-47aa-aea2-e1a013620c61"
      },
      "outputs": [
        {
          "output_type": "stream",
          "name": "stdout",
          "text": [
            "Authenticated\n",
            "The google.colab.data_table extension is already loaded. To reload it, use:\n",
            "  %reload_ext google.colab.data_table\n"
          ]
        }
      ],
      "source": [
        "from google.colab import auth\n",
        "auth.authenticate_user()\n",
        "print('Authenticated')\n",
        "%load_ext google.colab.data_table\n",
        "\n",
        "import gspread\n",
        "from google.auth import default\n",
        "creds, _ = default()\n",
        "\n",
        "gc = gspread.authorize(creds)\n",
        "try:\n",
        "  sh = gc.open(source_project +':' + source_dataset + ':' + source_table)\n",
        "except gspread.exceptions.SpreadsheetNotFound:\n",
        "  sh = gc.create(source_project +':' + source_dataset + ':' + source_table)\n"
      ]
    },
    {
      "cell_type": "code",
      "execution_count": null,
      "metadata": {
        "id": "oJHZ0rFv3_zB"
      },
      "outputs": [],
      "source": [
        "from google.cloud import bigquery\n",
        "\n",
        "client = bigquery.Client(project=source_project)\n",
        "\n",
        "events = client.query('''\n",
        "  select distinct\n",
        "    event_name\n",
        "  from {sp}.{sd}.{st} '''.format(sp=source_project, sd=source_dataset, st=source_table) ).result()\n",
        "\n",
        "event_list=[]\n",
        "for event in events:\n",
        "  event_list.append(event[0])\n",
        "event_list"
      ]
    },
    {
      "cell_type": "code",
      "execution_count": null,
      "metadata": {
        "id": "x49Xv4lXYHXa"
      },
      "outputs": [],
      "source": [
        "# Dictionary of dataframes\n",
        "event_params = {}\n",
        "\n",
        "for event in event_list:\n",
        "  exclude_list = [f\"'{param}'\" for param in exclude_parameters.split(', ')]\n",
        "  event_params[event] = client.query('''\n",
        "    select\n",
        "      ep.key\n",
        "      , count(case when ep.value.string_value is not null then ep.value.string_value end) as string_values\n",
        "      , count(case when ep.value.int_value is not null then ep.value.int_value end) as int_values\n",
        "      , count(case when ep.value.float_value is not null then ep.value.float_value end) as float_values\n",
        "      , count(case when ep.value.double_value is not null then ep.value.double_value end) as double_values\n",
        "    from {sp}.{sd}.{st}\n",
        "    cross join\n",
        "      unnest(event_params) ep\n",
        "    where event_name = '{en}'\n",
        "    and ep.key not in ({excl})\n",
        "    group by ep.key;\n",
        "    '''.format(sp=source_project, sd=source_dataset, st=source_table, en=event, excl=', '.join(exclude_list)) ).to_dataframe()\n",
        "  event_params[event]['value_types'] = \"\"\n",
        "\n",
        "\n",
        "user_props = client.query('''\n",
        "  select\n",
        "    up.key\n",
        "    , count(case when up.value.string_value is not null then up.value.string_value end) as string_values\n",
        "    , count(case when up.value.int_value is not null then up.value.int_value end) as int_values\n",
        "    , count(case when up.value.float_value is not null then up.value.float_value end) as float_values\n",
        "    , count(case when up.value.double_value is not null then up.value.double_value end) as double_values\n",
        "  from {sp}.{sd}.{st}\n",
        "  cross join\n",
        "    unnest(user_properties) up\n",
        "  group by up.key;\n",
        "  '''.format(sp=source_project, sd=source_dataset, st=source_table) ).to_dataframe()\n",
        "\n",
        "user_props"
      ]
    },
    {
      "cell_type": "code",
      "source": [
        "# warn_params is a list of event and event parameter names that have more than\n",
        "# one type of value\n",
        "warn_params = []\n",
        "warn_props = []\n",
        "\n",
        "# List parameters that are found in most or all events\n",
        "param_set = set()\n",
        "parameter_occurrences = {}\n",
        "total_events = 0\n",
        "universal_params = []\n",
        "\n",
        "# List user properties\n",
        "prop_set = set()\n",
        "\n",
        "\n",
        "for event in event_list:\n",
        "  total_events += 1\n",
        "  for param in event_params[event].key:\n",
        "    for index, row in event_params[event].iterrows():\n",
        "      matched_params = []\n",
        "      if row['string_values'] > 0:\n",
        "        matched_params.append('string_value')\n",
        "      if row['int_values'] > 0:\n",
        "        matched_params.append('int_value')\n",
        "      if row['float_values'] > 0:\n",
        "        matched_params.append('float_value')\n",
        "      if row['double_values'] > 0:\n",
        "        matched_params.append('double_value')\n",
        "      if len(matched_params) > 1:\n",
        "        warn_params.append( event + \": \" + param )\n",
        "      event_params[event].loc[index, 'value_types'] = ', '.join(matched_params)\n",
        "\n",
        "      param_set.add(row.key)\n",
        "      if row['key'] not in parameter_occurrences:\n",
        "        parameter_occurrences[row['key']] = 1\n",
        "      else:\n",
        "        parameter_occurrences[row['key']] += 1\n",
        "\n",
        "for param in param_set:\n",
        "  if parameter_occurrences[param] / total_events >  threshold:\n",
        "    universal_params.append(param)\n",
        "\n",
        "\n",
        "for event in event_list:\n",
        "  for prop in user_props[event].key:\n",
        "    for index, row in user_props[event].iterrows():\n",
        "      matched_props = []\n",
        "      if row['string_values'] > 0:\n",
        "        matched_props.append('string_value')\n",
        "      if row['int_values'] > 0:\n",
        "        matched_props.append('int_value')\n",
        "      if row['float_values'] > 0:\n",
        "        matched_props.append('float_value')\n",
        "      if row['double_values'] > 0:\n",
        "        matched_props.append('double_value')\n",
        "      if len(matched_props) > 1:\n",
        "        warn_props.append( event + \": \" + prop )\n",
        "      user_props[event].loc[index, 'value_types'] = ', '.join(matched_props)\n",
        "\n",
        "      prop_set.add(row.key)\n"
      ],
      "metadata": {
        "id": "nx0rZWvzRbBS"
      },
      "execution_count": null,
      "outputs": []
    },
    {
      "cell_type": "code",
      "execution_count": null,
      "metadata": {
        "id": "NoEHBbNihR0g"
      },
      "outputs": [],
      "source": [
        "\n",
        "\n",
        "if len(universal_params) > 0:\n",
        "  print( \"The following event parameters appear in at least \" + format(threshold, \".0%\") + \" of events. Consider implementing these as default custom parameters. \\n\" )\n",
        "  print( \"Please note that the parameters that are implemented by default in GA4 on all events, like page_location, are not removed from this list. \\n\" )\n",
        "  print( \"You do not need to register default parameters. \\n\" )\n",
        "  print('\\n '.join(universal_params) + '\\n\\n')\n",
        "  try:\n",
        "    worksheet = sh.worksheet(\"Universal params\")\n",
        "  except gspread.exceptions.WorksheetNotFound:\n",
        "    worksheet = sh.add_worksheet(title=\"Universal params\", rows=len(universal_params)+2, cols=1)\n",
        "  worksheet.update_acell('A1', 'The following event parameters appear in at least ' + format(threshold, \".0%\") + ' of events. Consider implementing these as default custom parameters.')\n",
        "  worksheet.append_rows([[param] for param in universal_params])\n",
        "\n",
        "print( \"These are the event parameters by event: \\n\" )\n",
        "for event in event_list:\n",
        "  print (event +'\\n')\n",
        "  print (event_params[event].loc[:, ['key','value_types']])\n",
        "  print ('\\n')\n",
        "  try:\n",
        "    worksheet = sh.worksheet(event)\n",
        "  except gspread.exceptions.WorksheetNotFound:\n",
        "    worksheet = sh.add_worksheet(title=event, rows=len(event_params[event].index)+2, cols=len(event_params[event].columns))\n",
        "  worksheet.update([event_params[event].columns.values.tolist()] + event_params[event].values.tolist())\n",
        "\n",
        "\n",
        "\n",
        "print( \"These are the user properties that appear in the data: \\n\" )\n",
        "for event in list(user_props.keys()):  # Iterate over a copy of keys to allow modification\n",
        "  if user_props[event].empty or user_props[event]['value_types'].isnull().all():\n",
        "    del user_props[event]  # Remove empty or valueless DataFrames\n",
        "\n",
        "  if event in user_props: # Check if key exists before printing\n",
        "    print (event +'\\n')\n",
        "    print (user_props[event].loc[:, ['key','value_types']])\n",
        "    print ('\\n')\n",
        "    try:\n",
        "      worksheet = sh.worksheet(\"user_props\")\n",
        "    except gspread.exceptions.WorksheetNotFound:\n",
        "      worksheet = sh.add_worksheet(title=\"user_props\", rows=len(user_props[event].index)+2, cols=len(user_props[event].columns))\n",
        "    worksheet.update([user_props[event].columns.values.tolist()] + user_props[event].values.tolist())\n",
        "\n",
        "\n"
      ]
    }
  ],
  "metadata": {
    "colab": {
      "provenance": []
    },
    "kernelspec": {
      "display_name": "Python 3",
      "name": "python3"
    },
    "language_info": {
      "name": "python"
    }
  },
  "nbformat": 4,
  "nbformat_minor": 0
}