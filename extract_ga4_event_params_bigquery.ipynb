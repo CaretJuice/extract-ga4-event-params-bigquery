{
  "cells": [
    {
      "cell_type": "markdown",
      "metadata": {
        "colab_type": "text",
        "id": "view-in-github"
      },
      "source": [
        "<a href=\"https://colab.research.google.com/github/CaretJuice/extract-ga4-event-params-bigquery/blob/main/extract_ga4_event_params_bigquery.ipynb\" target=\"_parent\"><img src=\"https://colab.research.google.com/assets/colab-badge.svg\" alt=\"Open In Colab\"/></a>"
      ]
    },
    {
      "cell_type": "code",
      "execution_count": null,
      "metadata": {
        "id": "2nfjNrwm4HBc"
      },
      "outputs": [],
      "source": [
        "# Variables\n",
        "spreadsheet = ''  # using the connect by URL method so put the full URL of the sheet that you are using\n",
        "source_project = ''\n",
        "source_dataset = ''\n",
        "source_table = ''\n",
        "\n",
        "# string of parameter names formatted to go in a WHERE event_parameter.key NOT IN ('language','page_location')\n",
        "# intent of this sheet is to surface custom parameters so excluding more than Google's officially documented list of default parameters\n",
        "# https://support.google.com/analytics/answer/9234069?hl=en&ref_topic=13367566&sjid=4176436952221836768-NC\n",
        "# leave empty string to select all parameters\n",
        "parameters_to_exclude = \"\"\"\n",
        "  'language', 'page_location', 'page_referrer', 'page_title', 'screen_resolution', 'engagement_time_msec', \n",
        "  'source', 'medium', 'campaign', 'batch_ordering_id', 'ga_session_number', 'ga_session_id', 'page_title', \n",
        "  'screen_name', 'session_engaged', 'debug_mode', 'ignore_referrer', 'batch_page_id', 'engaged_session_event'\n",
        "\"\"\""
      ]
    },
    {
      "cell_type": "code",
      "execution_count": null,
      "metadata": {
        "colab": {
          "base_uri": "https://localhost:8080/"
        },
        "id": "QcZZ3I5M3y1I",
        "outputId": "271787a2-9799-4316-c28d-e3bd6119e3d4"
      },
      "outputs": [
        {
          "name": "stdout",
          "output_type": "stream",
          "text": [
            "Authenticated\n",
            "The google.colab.data_table extension is already loaded. To reload it, use:\n",
            "  %reload_ext google.colab.data_table\n"
          ]
        }
      ],
      "source": [
        "from google.colab import auth\n",
        "auth.authenticate_user()\n",
        "print('Authenticated')\n",
        "%load_ext google.colab.data_table\n",
        "\n",
        "\n",
        "import gspread\n",
        "from google.auth import default\n",
        "creds, _ = default()\n",
        "\n",
        "gc = gspread.authorize(creds)"
      ]
    },
    {
      "cell_type": "code",
      "execution_count": null,
      "metadata": {
        "id": "x49Xv4lXYHXa"
      },
      "outputs": [],
      "source": [
        "event_params = client.query('''\n",
        "    select\n",
        "      event_name\n",
        "      , ep.key\n",
        "      , count(ep.value.string_value) as string_values\n",
        "      , count(ep.value.int_value) as int_values\n",
        "      , count(ep.value.float_value) as float_values\n",
        "      , count(ep.value.double_value) as double_values\n",
        "    from {sp}.{sd}.{st}\n",
        "    cross join\n",
        "      unnest(event_params) ep\n",
        "    where ep.key not in ({pe})\n",
        "    group by event_name, ep.key\n",
        "    union all\n",
        "    select\n",
        "      'user_property' as event_name\n",
        "      , up.key\n",
        "      , count(up.value.string_value) as string_values\n",
        "      , count(up.value.int_value) as int_values\n",
        "      , count(up.value.float_value) as float_values\n",
        "      , count(up.value.double_value) as double_values\n",
        "    from {sp}.{sd}.{st}\n",
        "    cross join\n",
        "      unnest(user_properties) up\n",
        "    group by event_name, up.key\n",
        "  '''.format(sp=source_project, sd=source_dataset, st=source_table, pe=parameters_to_exclude)).to_dataframe()\n",
        "\n",
        "event_params"
      ]
    },
    {
      "cell_type": "code",
      "execution_count": null,
      "metadata": {
        "colab": {
          "base_uri": "https://localhost:8080/"
        },
        "id": "qkIxsY8rfcsQ",
        "outputId": "68f84d15-7ba8-4213-e0cf-cc5996a8083e"
      },
      "outputs": [
        {
          "name": "stdout",
          "output_type": "stream",
          "text": [
            "first_visit\n",
            "\n",
            "                  key  string_values  int_values  float_values  double_values\n",
            "0         form_length              0           1             0              0\n",
            "1       batch_page_id              0           1             0              0\n",
            "2     ignore_referrer              1           0             0              0\n",
            "3          page_title              1           0             0              0\n",
            "4       page_referrer              1           0             0              0\n",
            "5    form_destination              1           0             0              0\n",
            "6       page_location              1           0             0              0\n",
            "7   ga_session_number              0           1             0              0\n",
            "8     session_engaged              1           0             0              0\n",
            "9   batch_ordering_id              0           1             0              0\n",
            "10      ga_session_id              0           1             0              0\n",
            "\n",
            "\n",
            "session_start\n",
            "\n",
            "                  key  string_values  int_values  float_values  double_values\n",
            "0       batch_page_id              0           1             0              0\n",
            "1       page_location              1           0             0              0\n",
            "2     session_engaged              1           0             0              0\n",
            "3       ga_session_id              0           1             0              0\n",
            "4   batch_ordering_id              0           1             0              0\n",
            "5     ignore_referrer              1           0             0              0\n",
            "6       page_referrer              1           0             0              0\n",
            "7   ga_session_number              0           1             0              0\n",
            "8         form_length              0           1             0              0\n",
            "9    form_destination              1           0             0              0\n",
            "10         page_title              1           0             0              0\n",
            "\n",
            "\n",
            "form_start\n",
            "\n",
            "                  key  string_values  int_values  float_values  double_values\n",
            "0     session_engaged              1           0             0              0\n",
            "1       batch_page_id              0           1             0              0\n",
            "2   batch_ordering_id              0           1             0              0\n",
            "3         form_length              0           1             0              0\n",
            "4       ga_session_id              0           1             0              0\n",
            "5       page_location              1           0             0              0\n",
            "6   ga_session_number              0           1             0              0\n",
            "7          page_title              1           0             0              0\n",
            "8    form_destination              1           0             0              0\n",
            "9     ignore_referrer              1           0             0              0\n",
            "10      page_referrer              1           0             0              0\n",
            "\n",
            "\n",
            "form_submit\n",
            "\n",
            "                     key  string_values  int_values  float_values  \\\n",
            "0          batch_page_id              0           1             0   \n",
            "1          page_location              1           0             0   \n",
            "2            form_length              0           1             0   \n",
            "3   engagement_time_msec              0           1             0   \n",
            "4       form_destination              1           0             0   \n",
            "5          ga_session_id              0           1             0   \n",
            "6      batch_ordering_id              0           1             0   \n",
            "7        ignore_referrer              1           0             0   \n",
            "8             page_title              1           0             0   \n",
            "9      ga_session_number              0           1             0   \n",
            "10       session_engaged              1           0             0   \n",
            "11         page_referrer              1           0             0   \n",
            "\n",
            "    double_values  \n",
            "0               0  \n",
            "1               0  \n",
            "2               0  \n",
            "3               0  \n",
            "4               0  \n",
            "5               0  \n",
            "6               0  \n",
            "7               0  \n",
            "8               0  \n",
            "9               0  \n",
            "10              0  \n",
            "11              0  \n",
            "\n",
            "\n",
            "user_engagement\n",
            "\n",
            "                    key  string_values  int_values  float_values  \\\n",
            "0         ga_session_id              0           1             0   \n",
            "1            page_title              1           0             0   \n",
            "2         batch_page_id              0           1             0   \n",
            "3       ignore_referrer              1           0             0   \n",
            "4         page_location              1           0             0   \n",
            "5     batch_ordering_id              0           1             0   \n",
            "6       session_engaged              1           0             0   \n",
            "7  engagement_time_msec              0           1             0   \n",
            "8         page_referrer              1           0             0   \n",
            "9     ga_session_number              0           1             0   \n",
            "\n",
            "   double_values  \n",
            "0              0  \n",
            "1              0  \n",
            "2              0  \n",
            "3              0  \n",
            "4              0  \n",
            "5              0  \n",
            "6              0  \n",
            "7              0  \n",
            "8              0  \n",
            "9              0  \n",
            "\n",
            "\n"
          ]
        }
      ],
      "source": [
        "from gspread_dataframe import set_with_dataframe\n",
        "\n",
        "ss = gc.open_by_url(spreadsheet)\n",
        "try:\n",
        "    ws = ss.worksheet(source_dataset)\n",
        "except:\n",
        "    ws = ss.add_worksheet(title=source_dataset, rows='1', cols ='1')\n",
        "set_with_dataframe(ws, event_params )\n",
        "#restore the header text\n",
        "ws.update('A1', source_dataset)"
      ]
    }
  ],
  "metadata": {
    "colab": {
      "authorship_tag": "ABX9TyMCHadwlB1TKhi7v1CqAysC",
      "include_colab_link": true,
      "provenance": []
    },
    "kernelspec": {
      "display_name": "Python 3",
      "name": "python3"
    },
    "language_info": {
      "name": "python"
    }
  },
  "nbformat": 4,
  "nbformat_minor": 0
}
