{
  "nbformat": 4,
  "nbformat_minor": 0,
  "metadata": {
    "colab": {
      "provenance": [],
      "authorship_tag": "ABX9TyNeBGUiPCSPjBoG40ylQkW7",
      "include_colab_link": true
    },
    "kernelspec": {
      "name": "python3",
      "display_name": "Python 3"
    },
    "language_info": {
      "name": "python"
    }
  },
  "cells": [
    {
      "cell_type": "markdown",
      "metadata": {
        "id": "view-in-github",
        "colab_type": "text"
      },
      "source": [
        "<a href=\"https://colab.research.google.com/github/CaretJuice/extract-ga4-event-params-bigquery/blob/main/extract_ga4_event_params_bigquery.ipynb\" target=\"_parent\"><img src=\"https://colab.research.google.com/assets/colab-badge.svg\" alt=\"Open In Colab\"/></a>"
      ]
    },
    {
      "cell_type": "code",
      "source": [
        "# Variables\n",
        "\n",
        "source_project = ''\n",
        "source_dataset = ''\n",
        "source_table = ''\n",
        "\n",
        "# In what percentage of events does an event parameter need to be found to be\n",
        "# considered a universal event parameter. In other words, what parameters should\n",
        "# be configured for all events.\n",
        "threshold = 0.5"
      ],
      "metadata": {
        "id": "2nfjNrwm4HBc"
      },
      "execution_count": null,
      "outputs": []
    },
    {
      "cell_type": "code",
      "execution_count": null,
      "metadata": {
        "id": "QcZZ3I5M3y1I"
      },
      "outputs": [],
      "source": [
        "from google.colab import auth\n",
        "auth.authenticate_user()\n",
        "print('Authenticated')\n",
        "%load_ext google.colab.data_table"
      ]
    },
    {
      "cell_type": "code",
      "source": [
        "from google.cloud import bigquery\n",
        "\n",
        "client = bigquery.Client(project=source_project)\n",
        "\n",
        "events = client.query('''\n",
        "  select distinct\n",
        "    event_name\n",
        "  from {sp}.{sd}.{st} '''.format(sp=source_project, sd=source_dataset, st=source_table) ).result()\n",
        "\n",
        "event_list=[]\n",
        "for event in events:\n",
        "  event_list.append(event[0])\n",
        "event_list"
      ],
      "metadata": {
        "id": "oJHZ0rFv3_zB"
      },
      "execution_count": null,
      "outputs": []
    },
    {
      "cell_type": "code",
      "source": [
        "# Dictionary of dataframes\n",
        "event_params = {}\n",
        "\n",
        "for event in event_list:\n",
        "  event_params[event] = client.query('''\n",
        "    select\n",
        "      ep.key\n",
        "      , count(ep.value.string_value) as string_values\n",
        "      , count(ep.value.int_value) as int_values\n",
        "      , count(ep.value.float_value) as float_values\n",
        "      , count(ep.value.double_value) as double_values\n",
        "    from {sp}.{sd}.{st}\n",
        "    cross join\n",
        "      unnest(event_params) ep\n",
        "    where event_name = '{en}'\n",
        "    group by ep.key;\n",
        "    '''.format(sp=source_project, sd=source_dataset, st=source_table, en=event) ).to_dataframe()\n",
        "  event_params[event]['value_types'] = \"\"\n",
        "\n",
        "user_props = {}\n",
        "\n",
        "for event in event_list:\n",
        "  user_props[event] = client.query('''\n",
        "    select\n",
        "      up.key\n",
        "      , count(up.value.string_value) as string_values\n",
        "      , count(up.value.int_value) as int_values\n",
        "      , count(up.value.float_value) as float_values\n",
        "      , count(up.value.double_value) as double_values\n",
        "    from {sp}.{sd}.{st}\n",
        "    cross join\n",
        "      unnest(user_properties) up\n",
        "    where event_name = '{en}'\n",
        "    group by up.key;\n",
        "    '''.format(sp=source_project, sd=source_dataset, st=source_table, en=event) ).to_dataframe()\n",
        "  user_props[event]['value_types'] = \"\"\n",
        "\n"
      ],
      "metadata": {
        "id": "x49Xv4lXYHXa"
      },
      "execution_count": null,
      "outputs": []
    },
    {
      "cell_type": "code",
      "source": [
        "event_params['first_visit'].key\n"
      ],
      "metadata": {
        "id": "A6Orwdp_ntCx"
      },
      "execution_count": null,
      "outputs": []
    },
    {
      "cell_type": "code",
      "source": [
        "# warn_params is a list of event and event parameter names that have more than\n",
        "# one type of value\n",
        "warn_params = []\n",
        "warn_props = []\n",
        "\n",
        "# List parameters that are found in most or all events\n",
        "param_set = set()\n",
        "parameter_occurrences = {}\n",
        "total_events = 0\n",
        "universal_params = []\n",
        "\n",
        "# List user properties\n",
        "prop_set = set()\n",
        "\n",
        "\n",
        "for event in event_list:\n",
        "  total_events += 1\n",
        "  for param in event_params[event].key:\n",
        "    for index, row in event_params[event].iterrows():\n",
        "      matched_params = []\n",
        "      if row['string_values'] > 0:\n",
        "        matched_params.append('string_value')\n",
        "      if row['int_values'] > 0:\n",
        "        matched_params.append('int_value')\n",
        "      if row['float_values'] > 0:\n",
        "        matched_params.append('float_value')\n",
        "      if row['double_values'] > 0:\n",
        "        matched_params.append('double_value')\n",
        "      if len(matched_params) > 1:\n",
        "        warn_params.append( event + \": \" + param.key )\n",
        "      event_params[event].loc[index, 'value_types'] = matched_params\n",
        "\n",
        "      param_set.add(row.key)\n",
        "      if row['key'] not in parameter_occurrences:\n",
        "        parameter_occurrences[row['key']] = 1\n",
        "      else:\n",
        "        parameter_occurrences[row['key']] += 1\n",
        "\n",
        "for param in param_set:\n",
        "  if parameter_occurrences[param] / total_events >  threshold:\n",
        "    universal_params.append(param)\n",
        "\n",
        "\n",
        "for event in event_list:\n",
        "  for param in user_props[event].key:\n",
        "    for index, row in user_props[event].iterrows():\n",
        "      matched_props = []\n",
        "      if row['string_values'] > 0:\n",
        "        matched_params.append('string_value')\n",
        "      if row['int_values'] > 0:\n",
        "        matched_params.append('int_value')\n",
        "      if row['float_values'] > 0:\n",
        "        matched_params.append('float_value')\n",
        "      if row['double_values'] > 0:\n",
        "        matched_params.append('double_value')\n",
        "      if len(matched_params) > 1:\n",
        "        warn_props.append( event + \": \" + param.key )\n",
        "      user_props[event].loc[index, 'value_types'] = matched_params\n",
        "\n",
        "      prop_set.add(row.key)\n"
      ],
      "metadata": {
        "id": "qkIxsY8rfcsQ"
      },
      "execution_count": null,
      "outputs": []
    },
    {
      "cell_type": "code",
      "source": [
        "#\n",
        "\n",
        "if len(warn_params) > 0:\n",
        "  print( \"The following event parameters have more than one value type: \\n\" )\n",
        "  print(warn_params + '\\n\\n')\n",
        "\n",
        "print( \"The following event parameters appear in at least \" + format(threshold, \".0%\") + \" of events. Consider implementing these as default custom parameters. \\n\" )\n",
        "print( \"Please note that the parameters that are implemented by default in GA4 on all events, like page_location, are not removed from this list. \\n\" )\n",
        "print( \"You do not need to register default parameters. \\n\" )\n",
        "print(' '.join(universal_params) + '\\n\\n')\n",
        "\n",
        "print( \"These are the event parameters by event: \\n\" )\n",
        "for event in event_list:\n",
        "  print (event +'\\n')\n",
        "  print (event_params[event])\n",
        "  print ('\\n')\n",
        "\n",
        "if len(warn_props) > 0:\n",
        "  print( \"The following user properties have more than one value type: \\n\" )\n",
        "  print(warn_props + '\\n\\n')\n",
        "\n",
        "print( \"These are the user properties that appear in the data: \\n\" )\n",
        "print(user_props + '\\n\\n')\n",
        "\n",
        "\n"
      ],
      "metadata": {
        "id": "NoEHBbNihR0g"
      },
      "execution_count": null,
      "outputs": []
    }
  ]
}